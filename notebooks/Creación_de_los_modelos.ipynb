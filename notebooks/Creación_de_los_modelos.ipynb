{
  "nbformat": 4,
  "nbformat_minor": 0,
  "metadata": {
    "colab": {
      "provenance": []
    },
    "kernelspec": {
      "name": "python3",
      "display_name": "Python 3"
    },
    "language_info": {
      "name": "python"
    }
  },
  "cells": [
    {
      "cell_type": "markdown",
      "source": [
        "1_Instalación de Librerías (Si es necesario en Colab)"
      ],
      "metadata": {
        "id": "oKKNmEcBfKNu"
      }
    },
    {
      "cell_type": "code",
      "execution_count": 18,
      "metadata": {
        "colab": {
          "base_uri": "https://localhost:8080/"
        },
        "id": "NgumTCDsR78r",
        "outputId": "e02d178f-5fd1-4e2b-a491-ffb83591e132"
      },
      "outputs": [
        {
          "output_type": "stream",
          "name": "stdout",
          "text": [
            "Requirement already satisfied: xgboost in /usr/local/lib/python3.11/dist-packages (2.1.4)\n",
            "Requirement already satisfied: scikit-learn in /usr/local/lib/python3.11/dist-packages (1.6.1)\n",
            "Requirement already satisfied: pandas in /usr/local/lib/python3.11/dist-packages (2.2.2)\n",
            "Requirement already satisfied: numpy in /usr/local/lib/python3.11/dist-packages (2.0.2)\n",
            "Requirement already satisfied: joblib in /usr/local/lib/python3.11/dist-packages (1.5.1)\n",
            "Requirement already satisfied: nvidia-nccl-cu12 in /usr/local/lib/python3.11/dist-packages (from xgboost) (2.21.5)\n",
            "Requirement already satisfied: scipy in /usr/local/lib/python3.11/dist-packages (from xgboost) (1.15.3)\n",
            "Requirement already satisfied: threadpoolctl>=3.1.0 in /usr/local/lib/python3.11/dist-packages (from scikit-learn) (3.6.0)\n",
            "Requirement already satisfied: python-dateutil>=2.8.2 in /usr/local/lib/python3.11/dist-packages (from pandas) (2.9.0.post0)\n",
            "Requirement already satisfied: pytz>=2020.1 in /usr/local/lib/python3.11/dist-packages (from pandas) (2025.2)\n",
            "Requirement already satisfied: tzdata>=2022.7 in /usr/local/lib/python3.11/dist-packages (from pandas) (2025.2)\n",
            "Requirement already satisfied: six>=1.5 in /usr/local/lib/python3.11/dist-packages (from python-dateutil>=2.8.2->pandas) (1.17.0)\n"
          ]
        }
      ],
      "source": [
        "# N: Esta celda es útil si estás ejecutando esto en un nuevo entorno de Colab\n",
        "# N: Si ya tienes las librerías instaladas o tu runtime las incluye, puedes saltarla.\n",
        "!pip install xgboost scikit-learn pandas numpy joblib"
      ]
    },
    {
      "cell_type": "markdown",
      "source": [
        "2_Importación de Librerías"
      ],
      "metadata": {
        "id": "6P48Oo-tfLWh"
      }
    },
    {
      "cell_type": "code",
      "source": [
        "import pandas as pd\n",
        "import numpy as np\n",
        "import xgboost as xgb\n",
        "from sklearn.model_selection import train_test_split, GridSearchCV\n",
        "from sklearn.metrics import mean_squared_error, r2_score, mean_absolute_percentage_error\n",
        "import joblib # Para guardar y cargar modelos\n",
        "\n",
        "# N: Si tienes warnings de librerías que no afectan la ejecución, puedes ignorarlos\n",
        "import warnings\n",
        "warnings.filterwarnings('ignore')"
      ],
      "metadata": {
        "id": "Y_2cCXjISNcl"
      },
      "execution_count": 19,
      "outputs": []
    },
    {
      "cell_type": "markdown",
      "source": [
        "3_Carga de Datos"
      ],
      "metadata": {
        "id": "8KzVwRD6fM3u"
      }
    },
    {
      "cell_type": "code",
      "source": [
        "# N: Asegúrate de que estos archivos CSV estén disponibles en tu entorno de Colab.\n",
        "# N: Puedes subirlos manualmente a la sección 'Files' de Colab o montando Google Drive.\n",
        "\n",
        "# Cargar datasets\n",
        "df_ush = pd.read_csv('USH_completo_renombrado.csv')\n",
        "df_rg = pd.read_csv('RG_completo_renombrado.csv')\n",
        "\n",
        "# Mostrar las primeras filas y la información para verificar\n",
        "print(\"Datos de Ushuaia (df_ush.head()):\")\n",
        "print(df_ush.head())\n",
        "print(\"\\nInformación de Ushuaia (df_ush.info()):\")\n",
        "df_ush.info()\n",
        "\n",
        "print(\"\\nDatos de Río Grande (df_rg.head()):\")\n",
        "print(df_rg.head())\n",
        "print(\"\\nInformación de Río Grande (df_rg.info()):\")\n",
        "df_rg.info()\n",
        "\n",
        "# N: Verificar que las columnas de mes_X estén presentes y sean numéricas (0 o 1)\n",
        "# N: y que no haya NaNs en las columnas que se usarán para entrenar.\n",
        "# N: Por ejemplo:\n",
        "print(\"\\nValores nulos en df_ush después de la carga:\")\n",
        "print(df_ush.isnull().sum()[df_ush.isnull().sum() > 0])\n",
        "\n",
        "print(\"\\nValores nulos en df_rg después de la carga:\")\n",
        "print(df_rg.isnull().sum()[df_rg.isnull().sum() > 0])"
      ],
      "metadata": {
        "colab": {
          "base_uri": "https://localhost:8080/"
        },
        "id": "v2707-HQSWyS",
        "outputId": "a1d09cd8-ee13-4772-cd6c-cafcd6b47b48"
      },
      "execution_count": 20,
      "outputs": [
        {
          "output_type": "stream",
          "name": "stdout",
          "text": [
            "Datos de Ushuaia (df_ush.head()):\n",
            "   anio  temp_max  temp_min  temp_media  lluvia_mm  dias_nieve   toh   top  \\\n",
            "0  2009      10.8       9.4        10.1       30.8           0  66.1  56.0   \n",
            "1  2009       9.5       8.3         8.9       29.0           0  54.5  45.0   \n",
            "2  2009       9.1       7.9         8.5       64.6           1  39.2  30.7   \n",
            "3  2009       6.1       5.2         5.7       86.2           1  31.5  24.3   \n",
            "4  2009       4.7       2.0         2.6       59.2           4  22.1  16.5   \n",
            "\n",
            "   ent_san_sebastian  aero_ush  ...  mes_diciembre  mes_enero  mes_febrero  \\\n",
            "0              26309   33589.0  ...          False       True        False   \n",
            "1              15123   31671.0  ...          False      False         True   \n",
            "2              14684   20569.0  ...          False      False        False   \n",
            "3              13319   15312.0  ...          False      False        False   \n",
            "4              12729    9878.0  ...          False      False        False   \n",
            "\n",
            "   mes_julio  mes_junio  mes_marzo  mes_mayo  mes_noviembre  mes_octubre  \\\n",
            "0      False      False      False     False          False        False   \n",
            "1      False      False      False     False          False        False   \n",
            "2      False      False       True     False          False        False   \n",
            "3      False      False      False     False          False        False   \n",
            "4      False      False      False      True          False        False   \n",
            "\n",
            "   mes_septiembre  \n",
            "0           False  \n",
            "1           False  \n",
            "2           False  \n",
            "3           False  \n",
            "4           False  \n",
            "\n",
            "[5 rows x 23 columns]\n",
            "\n",
            "Información de Ushuaia (df_ush.info()):\n",
            "<class 'pandas.core.frame.DataFrame'>\n",
            "RangeIndex: 168 entries, 0 to 167\n",
            "Data columns (total 23 columns):\n",
            " #   Column             Non-Null Count  Dtype  \n",
            "---  ------             --------------  -----  \n",
            " 0   anio               168 non-null    int64  \n",
            " 1   temp_max           168 non-null    float64\n",
            " 2   temp_min           168 non-null    float64\n",
            " 3   temp_media         168 non-null    float64\n",
            " 4   lluvia_mm          168 non-null    float64\n",
            " 5   dias_nieve         168 non-null    int64  \n",
            " 6   toh                166 non-null    float64\n",
            " 7   top                166 non-null    float64\n",
            " 8   ent_san_sebastian  168 non-null    int64  \n",
            " 9   aero_ush           166 non-null    float64\n",
            " 10  aero_rg            168 non-null    int64  \n",
            " 11  mes_abril          168 non-null    bool   \n",
            " 12  mes_agosto         168 non-null    bool   \n",
            " 13  mes_diciembre      168 non-null    bool   \n",
            " 14  mes_enero          168 non-null    bool   \n",
            " 15  mes_febrero        168 non-null    bool   \n",
            " 16  mes_julio          168 non-null    bool   \n",
            " 17  mes_junio          168 non-null    bool   \n",
            " 18  mes_marzo          168 non-null    bool   \n",
            " 19  mes_mayo           168 non-null    bool   \n",
            " 20  mes_noviembre      168 non-null    bool   \n",
            " 21  mes_octubre        168 non-null    bool   \n",
            " 22  mes_septiembre     168 non-null    bool   \n",
            "dtypes: bool(12), float64(7), int64(4)\n",
            "memory usage: 16.5 KB\n",
            "\n",
            "Datos de Río Grande (df_rg.head()):\n",
            "   anio  temp_max  temp_min  temp_media  lluvia_mm  dias_nieve        toh  \\\n",
            "0  2009      16.5       6.2        11.3       13.7           0  53.052414   \n",
            "1  2009      16.0       5.1        10.3       38.4           0  54.363991   \n",
            "2  2009      13.9       4.3         8.9       20.7           0  49.851257   \n",
            "3  2009       9.4       2.5         5.8       59.8           0  52.861046   \n",
            "4  2009       6.3      -1.2         2.1       11.4           1  55.200863   \n",
            "\n",
            "         top  ent_san_sebastian  aero_ush  ...  mes_diciembre  mes_enero  \\\n",
            "0  34.955265            35474.0   33589.0  ...          False       True   \n",
            "1  36.912571            26952.0   31671.0  ...          False      False   \n",
            "2  34.294098            19468.0   20569.0  ...          False      False   \n",
            "3  36.611073            15952.0   15312.0  ...          False      False   \n",
            "4  36.415657            10071.0    9878.0  ...          False      False   \n",
            "\n",
            "   mes_febrero  mes_julio  mes_junio  mes_marzo  mes_mayo  mes_noviembre  \\\n",
            "0        False      False      False      False     False          False   \n",
            "1         True      False      False      False     False          False   \n",
            "2        False      False      False       True     False          False   \n",
            "3        False      False      False      False     False          False   \n",
            "4        False      False      False      False      True          False   \n",
            "\n",
            "   mes_octubre  mes_septiembre  \n",
            "0        False           False  \n",
            "1        False           False  \n",
            "2        False           False  \n",
            "3        False           False  \n",
            "4        False           False  \n",
            "\n",
            "[5 rows x 23 columns]\n",
            "\n",
            "Información de Río Grande (df_rg.info()):\n",
            "<class 'pandas.core.frame.DataFrame'>\n",
            "RangeIndex: 168 entries, 0 to 167\n",
            "Data columns (total 23 columns):\n",
            " #   Column             Non-Null Count  Dtype  \n",
            "---  ------             --------------  -----  \n",
            " 0   anio               168 non-null    int64  \n",
            " 1   temp_max           168 non-null    float64\n",
            " 2   temp_min           168 non-null    float64\n",
            " 3   temp_media         168 non-null    float64\n",
            " 4   lluvia_mm          168 non-null    float64\n",
            " 5   dias_nieve         168 non-null    int64  \n",
            " 6   toh                168 non-null    float64\n",
            " 7   top                168 non-null    float64\n",
            " 8   ent_san_sebastian  168 non-null    float64\n",
            " 9   aero_ush           166 non-null    float64\n",
            " 10  aero_rg            168 non-null    int64  \n",
            " 11  mes_abril          168 non-null    bool   \n",
            " 12  mes_agosto         168 non-null    bool   \n",
            " 13  mes_diciembre      168 non-null    bool   \n",
            " 14  mes_enero          168 non-null    bool   \n",
            " 15  mes_febrero        168 non-null    bool   \n",
            " 16  mes_julio          168 non-null    bool   \n",
            " 17  mes_junio          168 non-null    bool   \n",
            " 18  mes_marzo          168 non-null    bool   \n",
            " 19  mes_mayo           168 non-null    bool   \n",
            " 20  mes_noviembre      168 non-null    bool   \n",
            " 21  mes_octubre        168 non-null    bool   \n",
            " 22  mes_septiembre     168 non-null    bool   \n",
            "dtypes: bool(12), float64(8), int64(3)\n",
            "memory usage: 16.5 KB\n",
            "\n",
            "Valores nulos en df_ush después de la carga:\n",
            "toh         2\n",
            "top         2\n",
            "aero_ush    2\n",
            "dtype: int64\n",
            "\n",
            "Valores nulos en df_rg después de la carga:\n",
            "aero_ush    2\n",
            "dtype: int64\n"
          ]
        }
      ]
    },
    {
      "cell_type": "markdown",
      "source": [
        "4_ Definición de Características (Features) y Variables Objetivo (Targets)"
      ],
      "metadata": {
        "id": "HKO6GTAafQH8"
      }
    },
    {
      "cell_type": "code",
      "source": [
        "# N: Asegúrate de que la lista de características aquí coincida EXACTAMENTE\n",
        "# N: con las columnas resultantes de tu preprocesamiento y EDA.\n",
        "\n",
        "# Características comunes para ambos datasets\n",
        "common_features = [\n",
        "    'anio',\n",
        "    'temp_max', 'temp_min', 'temp_media', 'lluvia_mm', 'dias_nieve',\n",
        "    'ent_san_sebastian', 'aero_ush', 'aero_rg',\n",
        "    'mes_enero', 'mes_febrero', 'mes_marzo', 'mes_abril', 'mes_mayo', 'mes_junio',\n",
        "    'mes_julio', 'mes_agosto', 'mes_septiembre', 'mes_octubre', 'mes_noviembre', 'mes_diciembre'\n",
        "]\n",
        "\n",
        "# Variables objetivo\n",
        "target_toh = 'toh'\n",
        "target_top = 'top'\n",
        "\n",
        "# --- Ajustes específicos por dataset ---\n",
        "\n",
        "# Para Ushuaia: Usamos todas las características comunes\n",
        "features_ush = common_features\n",
        "\n",
        "# Para Río Grande: Quitamos 'mes_julio' como se decidió en el tuning final\n",
        "features_rg = [f for f in common_features if f != 'mes_julio']\n",
        "\n",
        "# N: Verificación final de que las columnas existen en los DataFrames\n",
        "print(\"\\n--- Verificación de Características en DataFrames ---\")\n",
        "missing_ush_features = [f for f in features_ush if f not in df_ush.columns]\n",
        "if missing_ush_features:\n",
        "    print(f\"ATENCIÓN: Faltan las siguientes características en df_ush: {missing_ush_features}\")\n",
        "else:\n",
        "    print(\"Todas las características de Ushuaia están presentes.\")\n",
        "\n",
        "missing_rg_features = [f for f in features_rg if f not in df_rg.columns]\n",
        "if missing_rg_features:\n",
        "    print(f\"ATENCIÓN: Faltan las siguientes características en df_rg: {missing_rg_features}\")\n",
        "else:\n",
        "    print(\"Todas las características de Río Grande están presentes.\")\n",
        "\n",
        "if target_toh not in df_ush.columns or target_top not in df_ush.columns:\n",
        "    print(\"ATENCIÓN: Las columnas de target (toh, top) no están en df_ush.\")\n",
        "else:\n",
        "    print(\"Variables objetivo (toh, top) presentes en df_ush.\")\n",
        "\n",
        "if target_toh not in df_rg.columns or target_top not in df_rg.columns:\n",
        "    print(\"ATENCIÓN: Las columnas de target (toh, top) no están en df_rg.\")\n",
        "else:\n",
        "    print(\"Variables objetivo (toh, top) presentes en df_rg.\")"
      ],
      "metadata": {
        "colab": {
          "base_uri": "https://localhost:8080/"
        },
        "id": "aXi7zIRhSZmQ",
        "outputId": "fa75b3cf-3274-482e-e864-f6e640947caf"
      },
      "execution_count": 21,
      "outputs": [
        {
          "output_type": "stream",
          "name": "stdout",
          "text": [
            "\n",
            "--- Verificación de Características en DataFrames ---\n",
            "Todas las características de Ushuaia están presentes.\n",
            "Todas las características de Río Grande están presentes.\n",
            "Variables objetivo (toh, top) presentes en df_ush.\n",
            "Variables objetivo (toh, top) presentes en df_rg.\n"
          ]
        }
      ]
    },
    {
      "cell_type": "markdown",
      "source": [
        " 5_ Definición de Parámetros que exploró GridSearchCV\n",
        "\n"
      ],
      "metadata": {
        "id": "F-HoMAkcfRMg"
      }
    },
    {
      "cell_type": "code",
      "source": [
        "# N: Aquí se definen los mejores hiperparámetros encontrados en las ejecuciones previas de GridSearchCV.\n",
        "# N: Esto nos permite entrenar los modelos directamente con la configuración óptima,\n",
        "# N: sin la necesidad de volver a ejecutar la búsqueda exhaustiva (que es muy lenta).\n",
        "\n",
        "# Mejores hiperparámetros para Ushuaia - TOH%\n",
        "best_params_ush_toh = {'colsample_bytree': 0.8, 'gamma': 0, 'learning_rate': 0.05, 'max_depth': 3, 'n_estimators': 300, 'subsample': 0.7}\n",
        "\n",
        "# Mejores hiperparámetros para Ushuaia - TOP%\n",
        "best_params_ush_top = {'colsample_bytree': 0.9, 'gamma': 0, 'learning_rate': 0.15, 'max_depth': 3, 'n_estimators': 200, 'subsample': 0.7}\n",
        "\n",
        "# Mejores hiperparámetros para Río Grande - TOH% (sin mes_julio)\n",
        "best_params_rg_toh_no_julio = {'colsample_bytree': 0.9, 'gamma': 0, 'learning_rate': 0.05, 'max_depth': 4, 'n_estimators': 200, 'subsample': 0.8}\n",
        "\n",
        "# Mejores hiperparámetros para Río Grande - TOP% (sin mes_julio)\n",
        "best_params_rg_top_no_julio = {'colsample_bytree': 0.9, 'gamma': 0, 'learning_rate': 0.05, 'max_depth': 3, 'n_estimators': 100, 'subsample': 0.9}\n",
        "\n",
        "print(\"Hiperparámetros óptimos definidos para cada modelo.\")"
      ],
      "metadata": {
        "colab": {
          "base_uri": "https://localhost:8080/"
        },
        "id": "96XzwUOnTOgG",
        "outputId": "698ba128-2d14-44d0-9a0e-cb94927bdc8a"
      },
      "execution_count": 22,
      "outputs": [
        {
          "output_type": "stream",
          "name": "stdout",
          "text": [
            "Hiperparámetros óptimos definidos para cada modelo.\n"
          ]
        }
      ]
    },
    {
      "cell_type": "markdown",
      "source": [
        "6_ Función de Entrenamiento y Evaluación del Modelo"
      ],
      "metadata": {
        "id": "3GLV7JRqfZ9l"
      }
    },
    {
      "cell_type": "code",
      "source": [
        "# N: Esta función ahora acepta 'best_params' y entrena el modelo directamente,\n",
        "# N: sin ejecutar GridSearchCV, lo que acelera mucho el proceso.\n",
        "\n",
        "def train_and_evaluate_model(df, features, target_col, city_name, model_type, best_params):\n",
        "    \"\"\"\n",
        "    Entrena y evalúa un modelo XGBoost con los hiperparámetros dados.\n",
        "\n",
        "    Args:\n",
        "        df (pd.DataFrame): DataFrame con los datos completos (entrenamiento + prueba).\n",
        "        features (list): Lista de nombres de columnas a usar como características.\n",
        "        target_col (str): Nombre de la columna objetivo.\n",
        "        city_name (str): Nombre de la ciudad (para logs).\n",
        "        model_type (str): Tipo de modelo (TOH%/TOP%) (para logs).\n",
        "        best_params (dict): Diccionario de hiperparámetros óptimos para el modelo.\n",
        "\n",
        "    Returns:\n",
        "        tuple: (best_model (xgb.XGBRegressor), metrics (dict))\n",
        "    \"\"\"\n",
        "    print(f\"\\n--- Entrenando modelo para {city_name} - {model_type} con parámetros óptimos ---\")\n",
        "\n",
        "    # Asegurarse de que las columnas de mes_X sean de tipo int (0/1)\n",
        "    for col in df.columns:\n",
        "        if col.startswith('mes_') and df[col].dtype == 'bool':\n",
        "            df[col] = df[col].astype(int)\n",
        "\n",
        "    # N: Asegúrate de que las columnas de features existen antes de seleccionarlas\n",
        "    # N: y de que no haya NaNs en las features o el target.\n",
        "    df_filtered = df.dropna(subset=features + [target_col]).copy()\n",
        "    if df_filtered.empty:\n",
        "        print(f\"Error: No hay datos suficientes para {city_name} - {model_type} después de eliminar NaNs.\")\n",
        "        return None, None\n",
        "\n",
        "    X = df_filtered[features]\n",
        "    y = df_filtered[target_col]\n",
        "\n",
        "    # Dividir datos en entrenamiento y prueba\n",
        "    X_train, X_test, y_train, y_test = train_test_split(X, y, test_size=0.2, random_state=42)\n",
        "    print(f\"Tamaño de X_train: {X_train.shape}, X_test: {X_test.shape}\")\n",
        "\n",
        "    # N: Instancia el modelo XGBoost directamente con los mejores hiperparámetros\n",
        "    model = xgb.XGBRegressor(objective='reg:squarederror', random_state=42, n_jobs=-1, **best_params)\n",
        "\n",
        "    # Entrenar el modelo\n",
        "    model.fit(X_train, y_train)\n",
        "\n",
        "    # Evaluar el modelo en el conjunto de prueba\n",
        "    y_pred = model.predict(X_test)\n",
        "\n",
        "    rmse = np.sqrt(mean_squared_error(y_test, y_pred))\n",
        "    mape = np.mean(np.abs((y_test - y_pred) / y_test)) * 100\n",
        "    r2 = r2_score(y_test, y_pred)\n",
        "\n",
        "    print(f\"Resultados de evaluación para {city_name} {model_type} (conjunto de prueba):\")\n",
        "    print(f\"  RMSE: {rmse:.2f}\")\n",
        "    print(f\"  MAPE: {mape:.2f}%\")\n",
        "    print(f\"  R2 Score: {r2:.2f}\")\n",
        "\n",
        "    return model, {'rmse': rmse, 'mape': mape, 'r2': r2}"
      ],
      "metadata": {
        "id": "1sUEQMrvTV3G"
      },
      "execution_count": 23,
      "outputs": []
    },
    {
      "cell_type": "code",
      "source": [
        "# N: Asegúrate de que la carpeta donde guardarás los modelos exista o se cree automáticamente.\n",
        "# N: En Colab, los archivos se guardan en el directorio raíz por defecto.\n",
        "\n",
        "# Diccionario para almacenar los mejores modelos y sus métricas\n",
        "trained_models = {}\n",
        "evaluation_results = {}\n",
        "\n",
        "# --- Modelo: Ushuaia TOH% ---\n",
        "best_model_ush_toh, metrics_ush_toh = train_and_evaluate_model(df_ush, features_ush, target_toh, \"Ushuaia\", \"TOH%\", best_params_ush_toh)\n",
        "if best_model_ush_toh:\n",
        "    trained_models['ush_toh'] = best_model_ush_toh\n",
        "    evaluation_results['ush_toh'] = metrics_ush_toh\n",
        "    joblib.dump(best_model_ush_toh, 'best_model_ush_toh.joblib')\n",
        "    print(\"Modelo best_model_ush_toh.joblib guardado.\")\n",
        "\n",
        "# --- Modelo: Ushuaia TOP% ---\n",
        "best_model_ush_top, metrics_ush_top = train_and_evaluate_model(df_ush, features_ush, target_top, \"Ushuaia\", \"TOP%\", best_params_ush_top)\n",
        "if best_model_ush_top:\n",
        "    trained_models['ush_top'] = best_model_ush_top\n",
        "    evaluation_results['ush_top'] = metrics_ush_top\n",
        "    joblib.dump(best_model_ush_top, 'best_model_ush_top.joblib')\n",
        "    print(\"Modelo best_model_ush_top.joblib guardado.\")\n",
        "\n",
        "# --- Modelo: Río Grande TOH% (sin mes_julio) ---\n",
        "# N: Aquí se aplica la exclusión de mes_julio para RG a través de 'features_rg'\n",
        "best_model_rg_toh_no_julio, metrics_rg_toh_no_julio = train_and_evaluate_model(df_rg, features_rg, target_toh, \"Río Grande\", \"TOH% (sin julio)\", best_params_rg_toh_no_julio)\n",
        "if best_model_rg_toh_no_julio:\n",
        "    trained_models['rg_toh_no_julio'] = best_model_rg_toh_no_julio\n",
        "    evaluation_results['rg_toh_no_julio'] = metrics_rg_toh_no_julio\n",
        "    joblib.dump(best_model_rg_toh_no_julio, 'best_model_rg_toh_no_julio.joblib')\n",
        "    print(\"Modelo best_model_rg_toh_no_julio.joblib guardado.\")\n",
        "\n",
        "# --- Modelo: Río Grande TOP% (sin mes_julio) ---\n",
        "# N: Aquí se aplica la exclusión de mes_julio para RG a través de 'features_rg'\n",
        "best_model_rg_top_no_julio, metrics_rg_top_no_julio = train_and_evaluate_model(df_rg, features_rg, target_top, \"Río Grande\", \"TOP% (sin julio)\", best_params_rg_top_no_julio)\n",
        "if best_model_rg_top_no_julio:\n",
        "    trained_models['rg_top_no_julio'] = best_model_rg_top_no_julio\n",
        "    evaluation_results['rg_top_no_julio'] = metrics_rg_top_no_julio\n",
        "    joblib.dump(best_model_rg_top_no_julio, 'best_model_rg_top_no_julio.joblib')\n",
        "    print(\"Modelo best_model_rg_top_no_julio.joblib guardado.\")\n",
        "\n",
        "print(\"\\n--- Resumen de Métricas de Evaluación Finales ---\")\n",
        "for model_name, metrics in evaluation_results.items():\n",
        "    print(f\"  {model_name}: RMSE={metrics['rmse']:.2f}, MAPE={metrics['mape']:.2f}%, R2={metrics['r2']:.2f}\")"
      ],
      "metadata": {
        "colab": {
          "base_uri": "https://localhost:8080/"
        },
        "id": "jyH-GKwFZz7V",
        "outputId": "b0f7e623-c5ee-493e-aa0f-de123ba47c70"
      },
      "execution_count": 24,
      "outputs": [
        {
          "output_type": "stream",
          "name": "stdout",
          "text": [
            "\n",
            "--- Entrenando modelo para Ushuaia - TOH% con parámetros óptimos ---\n",
            "Tamaño de X_train: (132, 21), X_test: (34, 21)\n",
            "Resultados de evaluación para Ushuaia TOH% (conjunto de prueba):\n",
            "  RMSE: 6.00\n",
            "  MAPE: 12.22%\n",
            "  R2 Score: 0.92\n",
            "Modelo best_model_ush_toh.joblib guardado.\n",
            "\n",
            "--- Entrenando modelo para Ushuaia - TOP% con parámetros óptimos ---\n",
            "Tamaño de X_train: (132, 21), X_test: (34, 21)\n",
            "Resultados de evaluación para Ushuaia TOP% (conjunto de prueba):\n",
            "  RMSE: 4.54\n",
            "  MAPE: 15.40%\n",
            "  R2 Score: 0.94\n",
            "Modelo best_model_ush_top.joblib guardado.\n",
            "\n",
            "--- Entrenando modelo para Río Grande - TOH% (sin julio) con parámetros óptimos ---\n",
            "Tamaño de X_train: (132, 20), X_test: (34, 20)\n",
            "Resultados de evaluación para Río Grande TOH% (sin julio) (conjunto de prueba):\n",
            "  RMSE: 4.13\n",
            "  MAPE: 9.30%\n",
            "  R2 Score: 0.92\n",
            "Modelo best_model_rg_toh_no_julio.joblib guardado.\n",
            "\n",
            "--- Entrenando modelo para Río Grande - TOP% (sin julio) con parámetros óptimos ---\n",
            "Tamaño de X_train: (132, 20), X_test: (34, 20)\n",
            "Resultados de evaluación para Río Grande TOP% (sin julio) (conjunto de prueba):\n",
            "  RMSE: 3.22\n",
            "  MAPE: 11.72%\n",
            "  R2 Score: 0.88\n",
            "Modelo best_model_rg_top_no_julio.joblib guardado.\n",
            "\n",
            "--- Resumen de Métricas de Evaluación Finales ---\n",
            "  ush_toh: RMSE=6.00, MAPE=12.22%, R2=0.92\n",
            "  ush_top: RMSE=4.54, MAPE=15.40%, R2=0.94\n",
            "  rg_toh_no_julio: RMSE=4.13, MAPE=9.30%, R2=0.92\n",
            "  rg_top_no_julio: RMSE=3.22, MAPE=11.72%, R2=0.88\n"
          ]
        }
      ]
    },
    {
      "cell_type": "markdown",
      "source": [
        "7_ Función de predicción más amigable"
      ],
      "metadata": {
        "id": "01uOFhq5fqWh"
      }
    },
    {
      "cell_type": "code",
      "source": [
        "# N: Esta función será muy útil para usar los modelos una vez entrenados.\n",
        "# N: Permite pasarle nuevos datos y obtener la predicción,\n",
        "# N: manejando automáticamente la columna 'mes_julio' para RG si se presenta.\n",
        "\n",
        "def make_prediction(model_key, new_data_df):\n",
        "    \"\"\"\n",
        "    Realiza una predicción utilizando uno de los modelos entrenados.\n",
        "\n",
        "    Args:\n",
        "        model_key (str): Clave del modelo a usar ('ush_toh', 'ush_top', 'rg_toh_no_julio', 'rg_top_no_julio').\n",
        "        new_data_df (pd.DataFrame): DataFrame con los datos para predecir (una o más filas).\n",
        "                                     Debe contener todas las columnas de características\n",
        "                                     que podrían ser relevantes para el modelo.\n",
        "                                     Si un mes_X es TRUE, asegúrate de que el resto de mes_Y sean FALSE.\n",
        "\n",
        "    Returns:\n",
        "        np.array: Array con las predicciones.\n",
        "    \"\"\"\n",
        "    if model_key not in trained_models:\n",
        "        print(f\"Error: Modelo '{model_key}' no encontrado. Asegúrate de que los modelos estén entrenados y en el diccionario 'trained_models'.\")\n",
        "        return None\n",
        "\n",
        "    model = trained_models[model_key]\n",
        "\n",
        "    # Determinar las características esperadas por el modelo específico\n",
        "    # N: Usamos la lista global 'features_ush' o 'features_rg'\n",
        "    if 'rg' in model_key:\n",
        "        expected_features = features_rg # Esta lista ya NO incluye 'mes_julio'\n",
        "    else:\n",
        "        expected_features = features_ush # Esta lista SÍ incluye 'mes_julio'\n",
        "\n",
        "    # Preparar el DataFrame de entrada para la predicción\n",
        "    # Se crea un DataFrame con las columnas esperadas y se inicializan a 0.\n",
        "    # Luego se copian los valores de 'new_data_df' a este DataFrame.\n",
        "    processed_data = pd.DataFrame(0, index=new_data_df.index, columns=expected_features)\n",
        "\n",
        "    for col in expected_features:\n",
        "        if col in new_data_df.columns:\n",
        "            processed_data[col] = new_data_df[col]\n",
        "        # N: Si una columna esperada no está en new_data_df, se mantiene como 0, lo cual es correcto para features One-Hot Encoded.\n",
        "        # N: Para otras features numéricas (temp, lluvia), esto podría requerir imputación si new_data_df tiene NaNs.\n",
        "\n",
        "    # Asegurarse de que el orden de las columnas sea el mismo que el usado en el entrenamiento\n",
        "    processed_data = processed_data[expected_features]\n",
        "\n",
        "    # Realizar la predicción\n",
        "    predictions = model.predict(processed_data)\n",
        "\n",
        "    return predictions"
      ],
      "metadata": {
        "id": "YkvCQ2BtaYPE"
      },
      "execution_count": 25,
      "outputs": []
    },
    {
      "cell_type": "markdown",
      "source": [
        "8_ Ejemplos de predicción"
      ],
      "metadata": {
        "id": "y4rWUGWdfv3O"
      }
    },
    {
      "cell_type": "code",
      "source": [
        "print(\"\\n--- Ejemplos de Predicción con Datos Específicos ---\")\n",
        "\n",
        "# Datos para Ushuaia (Diciembre 2022)\n",
        "# N: Asegúrate que las columnas booleanas (meses) estén correctamente interpretadas como True/False\n",
        "# N: Aquí 'mes_diciembre' es True, el resto False\n",
        "ush_test_data = pd.DataFrame({\n",
        "    'anio': [2022],\n",
        "    'temp_max': [14.5],\n",
        "    'temp_min': [5.2],\n",
        "    'temp_media': [9.5],\n",
        "    'lluvia_mm': [58.2],\n",
        "    'dias_nieve': [0],\n",
        "    'toh': [59.7], # N: Este valor se ignorará para la predicción\n",
        "    'top': [45.3], # N: Este valor se ignorará para la predicción\n",
        "    'ent_san_sebastian': [17719],\n",
        "    'aero_ush': [54968.0],\n",
        "    'aero_rg': [5630],\n",
        "    'mes_abril': [False], 'mes_agosto': [False], 'mes_diciembre': [True],\n",
        "    'mes_enero': [False], 'mes_febrero': [False], 'mes_julio': [False],\n",
        "    'mes_junio': [False], 'mes_marzo': [False], 'mes_mayo': [False],\n",
        "    'mes_noviembre': [False], 'mes_octubre': [False], 'mes_septiembre': [False]\n",
        "})\n",
        "\n",
        "pred_ush_toh = make_prediction('ush_toh', ush_test_data)\n",
        "print(f\"Predicción TOH% Ushuaia (Diciembre 2022): {pred_ush_toh[0]:.2f}%\")\n",
        "\n",
        "pred_ush_top = make_prediction('ush_top', ush_test_data)\n",
        "print(f\"Predicción TOP% Ushuaia (Diciembre 2022): {pred_ush_top[0]:.2f}%\")\n",
        "\n",
        "\n",
        "# Datos para Río Grande (Diciembre 2022)\n",
        "# N: Asegúrate que las columnas booleanas (meses) estén correctamente interpretadas como True/False\n",
        "# N: Aquí 'mes_diciembre' es True, el resto False\n",
        "rg_test_data = pd.DataFrame({\n",
        "    'anio': [2022],\n",
        "    'temp_max': [15.9],\n",
        "    'temp_min': [4.5],\n",
        "    'temp_media': [10.3],\n",
        "    'lluvia_mm': [17.5],\n",
        "    'dias_nieve': [0],\n",
        "    'toh': [28.2], # N: Este valor se ignorará para la predicción\n",
        "    'top': [16.0], # N: Este valor se ignorará para la predicción\n",
        "    'ent_san_sebastian': [17719.0],\n",
        "    'aero_ush': [54968.0],\n",
        "    'aero_rg': [5630],\n",
        "    'mes_abril': [False], 'mes_agosto': [False], 'mes_diciembre': [True],\n",
        "    'mes_enero': [False], 'mes_febrero': [False], 'mes_julio': [False], # N: 'mes_julio' estará presente pero será ignorado por el modelo RG\n",
        "    'mes_junio': [False], 'mes_marzo': [False], 'mes_mayo': [False],\n",
        "    'mes_noviembre': [False], 'mes_octubre': [False], 'mes_septiembre': [False]\n",
        "})\n",
        "\n",
        "pred_rg_toh = make_prediction('rg_toh_no_julio', rg_test_data)\n",
        "print(f\"Predicción TOH% Río Grande (Diciembre 2022, 'mes_julio' presente en input, pero ignorado por el modelo RG): {pred_rg_toh[0]:.2f}%\")\n",
        "\n",
        "pred_rg_top = make_prediction('rg_top_no_julio', rg_test_data)\n",
        "print(f\"Predicción TOP% Río Grande (Diciembre 2022, 'mes_julio' presente en input, pero ignorado por el modelo RG): {pred_rg_top[0]:.2f}%\")"
      ],
      "metadata": {
        "colab": {
          "base_uri": "https://localhost:8080/"
        },
        "id": "K1FnPOM5a36G",
        "outputId": "08da3a1b-d7a4-4439-ea94-7975fdd4f349"
      },
      "execution_count": 26,
      "outputs": [
        {
          "output_type": "stream",
          "name": "stdout",
          "text": [
            "\n",
            "--- Ejemplos de Predicción con Datos Específicos ---\n",
            "Predicción TOH% Ushuaia (Diciembre 2022): 60.93%\n",
            "Predicción TOP% Ushuaia (Diciembre 2022): 45.54%\n",
            "Predicción TOH% Río Grande (Diciembre 2022, 'mes_julio' presente en input, pero ignorado por el modelo RG): 28.00%\n",
            "Predicción TOP% Río Grande (Diciembre 2022, 'mes_julio' presente en input, pero ignorado por el modelo RG): 17.28%\n"
          ]
        }
      ]
    },
    {
      "cell_type": "markdown",
      "source": [
        "###Para Ushuaia (Diciembre 2022):\n",
        "\n",
        "Valores Reales (de tus datos de entrada):\n",
        "\n",
        "TOH%: 59.7%  \n",
        "TOP%: 45.3%  \n",
        "  \n",
        "Tus Predicciones:\n",
        "\n",
        "Predicción TOH% Ushuaia: 60.93%  \n",
        "Predicción TOP% Ushuaia: 45.54%  \n",
        "   \n",
        "###Para Río Grande (Diciembre 2022):\n",
        "\n",
        "Valores Reales (de tus datos de entrada):\n",
        "\n",
        "TOH%: 28.2%  \n",
        "TOP%: 16.0%  \n",
        "  \n",
        "Tus Predicciones:\n",
        "Predicción TOH% Río Grande: 28.00%  \n",
        "Predicción TOP% Río Grande: 17.28%  "
      ],
      "metadata": {
        "id": "0UOoxB4TeR9-"
      }
    }
  ]
}