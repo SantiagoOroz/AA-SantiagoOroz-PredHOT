{
  "nbformat": 4,
  "nbformat_minor": 0,
  "metadata": {
    "colab": {
      "provenance": []
    },
    "kernelspec": {
      "name": "python3",
      "display_name": "Python 3"
    },
    "language_info": {
      "name": "python"
    }
  },
  "cells": [
    {
      "cell_type": "markdown",
      "source": [
        "Librerias necesarias"
      ],
      "metadata": {
        "id": "nlin-Yp9Eo1o"
      }
    },
    {
      "cell_type": "code",
      "execution_count": 13,
      "metadata": {
        "id": "1_5eid0sBUgl"
      },
      "outputs": [],
      "source": [
        "# !pip install pandas numpy joblib xgboost\n",
        "\n",
        "# Importaciones\n",
        "import pandas as pd\n",
        "import numpy as np\n",
        "import joblib\n",
        "import os\n",
        "import warnings\n",
        "warnings.filterwarnings('ignore')"
      ]
    },
    {
      "cell_type": "markdown",
      "source": [
        "Carga de modelos"
      ],
      "metadata": {
        "id": "kgLusDcmEvcG"
      }
    },
    {
      "cell_type": "code",
      "source": [
        "# Definición de características (orden crucial)\n",
        "features_ush = ['anio', 'temp_max', 'temp_min', 'temp_media', 'lluvia_mm', 'dias_nieve',\n",
        "                'ent_san_sebastian', 'aero_ush', 'aero_rg',\n",
        "                'mes_abril', 'mes_agosto', 'mes_diciembre', 'mes_enero', 'mes_febrero',\n",
        "                'mes_julio', 'mes_junio', 'mes_marzo', 'mes_mayo', 'mes_noviembre',\n",
        "                'mes_octubre', 'mes_septiembre']\n",
        "\n",
        "features_rg = [f for f in features_ush if f != 'mes_julio']# Río Grande excluye 'mes_julio'\n",
        "trained_models = {}\n",
        "model_paths = {\n",
        "    'ush_toh': 'best_model_ush_toh.joblib', #Modifica cada uno para tu ruta\n",
        "    'ush_top': 'best_model_ush_top.joblib', #por ejemplo 'ush_toh': '/content/drive/MyDrive/MiCarpetaDeModelos/best_model_ush_toh.joblib',\n",
        "    'rg_toh_no_julio': 'best_model_rg_toh_no_julio.joblib',\n",
        "    'rg_top_no_julio': 'best_model_rg_top_no_julio.joblib'\n",
        "}\n",
        "\n",
        "for key, path in model_paths.items():\n",
        "    if os.path.exists(path):\n",
        "        try:\n",
        "            trained_models[key] = joblib.load(path)\n",
        "            print(f\"  Modelo '{key}' cargado.\")\n",
        "        except Exception as e:\n",
        "            print(f\"  Error cargando '{key}': {e}\")\n",
        "    else:\n",
        "        print(f\"  Advertencia: Archivo '{path}' no encontrado para '{key}'.\")\n",
        "print(\"Carga de modelos completada.\")"
      ],
      "metadata": {
        "colab": {
          "base_uri": "https://localhost:8080/"
        },
        "id": "PKFYTB1VBaM9",
        "outputId": "2cb56bbf-f5c5-4e23-cfe2-0ae7ee7e2567"
      },
      "execution_count": 14,
      "outputs": [
        {
          "output_type": "stream",
          "name": "stdout",
          "text": [
            "  Modelo 'ush_toh' cargado.\n",
            "  Modelo 'ush_top' cargado.\n",
            "  Modelo 'rg_toh_no_julio' cargado.\n",
            "  Modelo 'rg_top_no_julio' cargado.\n",
            "Carga de modelos completada.\n"
          ]
        }
      ]
    },
    {
      "cell_type": "markdown",
      "source": [
        "Función amigable para predecir"
      ],
      "metadata": {
        "id": "Ah5hHuCWE086"
      }
    },
    {
      "cell_type": "code",
      "source": [
        "def make_prediction(model_key, new_data_df):\n",
        "    \"\"\"Realiza una predicción usando un modelo pre-entrenado.\"\"\"\n",
        "    if model_key not in trained_models:\n",
        "        print(f\"Error: Modelo '{model_key}' no disponible.\")\n",
        "        return None\n",
        "\n",
        "    model = trained_models[model_key]\n",
        "    expected_features = features_rg if 'rg' in model_key else features_ush\n",
        "\n",
        "    processed_data = pd.DataFrame(0, index=new_data_df.index, columns=expected_features)\n",
        "    for col in expected_features:\n",
        "        if col in new_data_df.columns:\n",
        "            # Convierte 'mes_' booleanos a int (0/1).\n",
        "            processed_data[col] = new_data_df[col].astype(int) if col.startswith('mes_') and new_data_df[col].dtype == 'bool' else new_data_df[col]\n",
        "    processed_data = processed_data[expected_features] # Asegura el orden.\n",
        "\n",
        "    return model.predict(processed_data)\n"
      ],
      "metadata": {
        "id": "xLRwy581D5wF"
      },
      "execution_count": 15,
      "outputs": []
    },
    {
      "cell_type": "markdown",
      "source": [
        "#Ejemplo de uso"
      ],
      "metadata": {
        "id": "cRIYMgxmEnrj"
      }
    },
    {
      "cell_type": "code",
      "source": [
        "# Datos para Ushuaia (Diciembre 2022)\n",
        "ush_data_diciembre_2022 = {\n",
        "    'anio': [2022], 'temp_max': [14.5], 'temp_min': [5.2], 'temp_media': [9.5],\n",
        "    'lluvia_mm': [58.2], 'dias_nieve': [0], 'ent_san_sebastian': [17719],\n",
        "    'aero_ush': [54968.0], 'aero_rg': [5630],\n",
        "    'mes_abril': [False], 'mes_agosto': [False], 'mes_diciembre': [True], 'mes_enero': [False],\n",
        "    'mes_febrero': [False], 'mes_julio': [False], 'mes_junio': [False], 'mes_marzo': [False],\n",
        "    'mes_mayo': [False], 'mes_noviembre': [False], 'mes_octubre': [False], 'mes_septiembre': [False]\n",
        "}\n",
        "ush_df = pd.DataFrame(ush_data_diciembre_2022)\n",
        "\n",
        "pred_ush_toh = make_prediction('ush_toh', ush_df)\n",
        "if pred_ush_toh is not None: print(f\"Predicción TOH% Ushuaia (Dic 2022): {pred_ush_toh[0]:.2f}%\")\n",
        "pred_ush_top = make_prediction('ush_top', ush_df)\n",
        "if pred_ush_top is not None: print(f\"Predicción TOP% Ushuaia (Dic 2022): {pred_ush_top[0]:.2f}%\")\n",
        "\n",
        "# Datos para Río Grande (Diciembre 2022)\n",
        "rg_data_diciembre_2022 = {\n",
        "    'anio': [2022], 'temp_max': [15.9], 'temp_min': [4.5], 'temp_media': [10.3],\n",
        "    'lluvia_mm': [17.5], 'dias_nieve': [0], 'ent_san_sebastian': [17719.0],\n",
        "    'aero_ush': [54968.0], 'aero_rg': [5630],\n",
        "    'mes_abril': [False], 'mes_agosto': [False], 'mes_diciembre': [True], 'mes_enero': [False],\n",
        "    'mes_febrero': [False], 'mes_julio': [False], # 'mes_julio' será ignorado para RG\n",
        "    'mes_junio': [False], 'mes_marzo': [False], 'mes_mayo': [False], 'mes_noviembre': [False],\n",
        "    'mes_octubre': [False], 'mes_septiembre': [False]\n",
        "}\n",
        "rg_df = pd.DataFrame(rg_data_diciembre_2022)\n",
        "\n",
        "pred_rg_toh = make_prediction('rg_toh_no_julio', rg_df)\n",
        "if pred_rg_toh is not None: print(f\"Predicción TOH% Río Grande (Dic 2022, Julio en input, ignorado): {pred_rg_toh[0]:.2f}%\")\n",
        "pred_rg_top = make_prediction('rg_top_no_julio', rg_df)\n",
        "if pred_rg_top is not None: print(f\"Predicción TOP% Río Grande (Dic 2022, Julio en input, ignorado): {pred_rg_top[0]:.2f}%\")"
      ],
      "metadata": {
        "colab": {
          "base_uri": "https://localhost:8080/"
        },
        "id": "nqT7ucBFCJsj",
        "outputId": "88528805-ccc6-4412-ad83-84184e47f8e9"
      },
      "execution_count": 16,
      "outputs": [
        {
          "output_type": "stream",
          "name": "stdout",
          "text": [
            "Predicción TOH% Ushuaia (Dic 2022): 60.61%\n",
            "Predicción TOP% Ushuaia (Dic 2022): 45.67%\n",
            "Predicción TOH% Río Grande (Dic 2022, Julio en input, ignorado): 28.21%\n",
            "Predicción TOP% Río Grande (Dic 2022, Julio en input, ignorado): 17.50%\n"
          ]
        }
      ]
    },
    {
      "cell_type": "markdown",
      "source": [
        "###Para Ushuaia (Diciembre 2022):\n",
        "\n",
        "Valores Reales (de tus datos de entrada):\n",
        "\n",
        "TOH%: 59.7%  \n",
        "TOP%: 45.3%  \n",
        "  \n",
        "Tus Predicciones:\n",
        "\n",
        "Predicción TOH% Ushuaia: 60.93%  \n",
        "Predicción TOP% Ushuaia: 45.54%  \n",
        "   \n",
        "###Para Río Grande (Diciembre 2022):\n",
        "\n",
        "Valores Reales (de tus datos de entrada):\n",
        "\n",
        "TOH%: 28.2%  \n",
        "TOP%: 16.0%  \n",
        "  \n",
        "Tus Predicciones:  \n",
        "Predicción TOH% Río Grande: 28.00%    \n",
        "Predicción TOP% Río Grande: 17.28%  "
      ],
      "metadata": {
        "id": "poaz3CLuFGsg"
      }
    }
  ]
}